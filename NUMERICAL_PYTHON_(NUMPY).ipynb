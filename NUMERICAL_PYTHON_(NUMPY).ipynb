{
  "nbformat": 4,
  "nbformat_minor": 0,
  "metadata": {
    "colab": {
      "name": "NUMERICAL PYTHON (NUMPY)",
      "provenance": [],
      "collapsed_sections": []
    },
    "kernelspec": {
      "name": "python3",
      "display_name": "Python 3"
    },
    "language_info": {
      "name": "python"
    }
  },
  "cells": [
    {
      "cell_type": "code",
      "execution_count": 2,
      "metadata": {
        "colab": {
          "base_uri": "https://localhost:8080/"
        },
        "id": "119-5rIr60-Z",
        "outputId": "4971286c-bbc4-4739-c736-82dd0bbe9c86"
      },
      "outputs": [
        {
          "output_type": "stream",
          "name": "stdout",
          "text": [
            "Looking in indexes: https://pypi.org/simple, https://us-python.pkg.dev/colab-wheels/public/simple/\n",
            "Requirement already satisfied: numpy in /usr/local/lib/python3.7/dist-packages (1.21.6)\n"
          ]
        }
      ],
      "source": [
        "# INSTALLING NUMPY\n",
        "\n",
        "!pip install numpy"
      ]
    },
    {
      "cell_type": "code",
      "source": [
        "import numpy as np\n",
        "numpy.__version__"
      ],
      "metadata": {
        "colab": {
          "base_uri": "https://localhost:8080/",
          "height": 35
        },
        "id": "gFcYDtz28MV2",
        "outputId": "801895fe-1443-4c27-d713-4b7469d1f3e9"
      },
      "execution_count": 9,
      "outputs": [
        {
          "output_type": "execute_result",
          "data": {
            "text/plain": [
              "'1.21.6'"
            ],
            "application/vnd.google.colaboratory.intrinsic+json": {
              "type": "string"
            }
          },
          "metadata": {},
          "execution_count": 9
        }
      ]
    },
    {
      "cell_type": "code",
      "source": [
        "# INITIALIZATION OF ARRAYS\n",
        "\n",
        "# Array Initialization- Single Dimension\n",
        "\n",
        "import numpy as np\n",
        "a = np.array([7,9,9,21])\n",
        "print(a)"
      ],
      "metadata": {
        "colab": {
          "base_uri": "https://localhost:8080/"
        },
        "id": "pCuyerxN9XHN",
        "outputId": "1167d3b6-3891-426e-8c4a-b388f9443c14"
      },
      "execution_count": 10,
      "outputs": [
        {
          "output_type": "stream",
          "name": "stdout",
          "text": [
            "[ 7  9  9 21]\n"
          ]
        }
      ]
    },
    {
      "cell_type": "code",
      "source": [
        "# Array Initialization - Multi Dimension\n",
        "\n",
        "import numpy as np\n",
        "b = np.array([(7,9,9,2), (16,11,9,6),(2,5,6,9)])\n",
        "print (b)"
      ],
      "metadata": {
        "colab": {
          "base_uri": "https://localhost:8080/"
        },
        "id": "LO8ZWSD-9vy-",
        "outputId": "1c992d21-5650-4e11-b9f2-c5250e38c79b"
      },
      "execution_count": 14,
      "outputs": [
        {
          "output_type": "stream",
          "name": "stdout",
          "text": [
            "[[ 7  9  9  2]\n",
            " [16 11  9  6]\n",
            " [ 2  5  6  9]]\n"
          ]
        }
      ]
    },
    {
      "cell_type": "code",
      "source": [
        "# Generating an Array\n",
        "\n",
        "# range of values in array\n",
        "c = np.arange(10)\n",
        "# set of values by Interval [start,end,no.of valuesEqualInterval]\n",
        "d = np.linspace(1,5,10)\n",
        "print(c)\n",
        "print(d)"
      ],
      "metadata": {
        "colab": {
          "base_uri": "https://localhost:8080/"
        },
        "id": "INuIsG48_s-T",
        "outputId": "ac9bc1a0-1ec6-4c69-af7c-6e9b8751863b"
      },
      "execution_count": 20,
      "outputs": [
        {
          "output_type": "stream",
          "name": "stdout",
          "text": [
            "[0 1 2 3 4 5 6 7 8 9]\n",
            "[1.         1.44444444 1.88888889 2.33333333 2.77777778 3.22222222\n",
            " 3.66666667 4.11111111 4.55555556 5.        ]\n"
          ]
        }
      ]
    },
    {
      "cell_type": "code",
      "source": [
        "# PROPERTIES OF ARRAY\n",
        "\n",
        "a = np.array([7,9,9,2])\n",
        "b = np.array([(7,9,9,2), (16,11,9,6)])\n",
        "print(b.ndim) #Dimension of Array\n",
        "print(a.itemsize) #Byte Size of each Element\n",
        "print(a.dtype) #Datatype of array\n",
        "print(b.size*a.itemsize) #memory occupied - space occupied by 1 element * length of numyp array\n",
        "print(b.size) #Number of elements of an array\n",
        "print(b.shape) #Shape of array (rows and columns)"
      ],
      "metadata": {
        "colab": {
          "base_uri": "https://localhost:8080/"
        },
        "id": "kKIQHqDKAwJ8",
        "outputId": "e1a4f450-a5db-4e50-e55e-34d7aa372562"
      },
      "execution_count": 34,
      "outputs": [
        {
          "output_type": "stream",
          "name": "stdout",
          "text": [
            "2\n",
            "8\n",
            "int64\n",
            "64\n",
            "8\n",
            "(2, 4)\n"
          ]
        }
      ]
    },
    {
      "cell_type": "code",
      "source": [
        "# ARRAY RESHAPE\n",
        "\n",
        "b = np.array([(7,9,9,2), (16,11,9,6)])\n",
        "print(b)\n",
        "b = b.reshape(4,2)\n",
        "print(b)"
      ],
      "metadata": {
        "colab": {
          "base_uri": "https://localhost:8080/"
        },
        "id": "X-iBnqnhHutw",
        "outputId": "f0d3e572-8bd9-40a0-cab2-0b2b2412508c"
      },
      "execution_count": 38,
      "outputs": [
        {
          "output_type": "stream",
          "name": "stdout",
          "text": [
            "[[ 7  9  9  2]\n",
            " [16 11  9  6]]\n",
            "[[ 7  9]\n",
            " [ 9  2]\n",
            " [16 11]\n",
            " [ 9  6]]\n"
          ]
        }
      ]
    },
    {
      "cell_type": "code",
      "source": [
        "# ARRAY SLICING\n",
        "\n",
        "b = np.array([(7,9,9,2), (16,11,9,6)])\n",
        "print(b[0,2]) #Slicing the Element from certain row and certain column b[row Index]\n",
        "print\n",
        "print(b[0:,2]) #Slicing Element from alll rows and cetain column"
      ],
      "metadata": {
        "colab": {
          "base_uri": "https://localhost:8080/"
        },
        "id": "Hp2l-4FTKYJt",
        "outputId": "447f181e-885e-4575-9299-306b60259816"
      },
      "execution_count": 43,
      "outputs": [
        {
          "output_type": "stream",
          "name": "stdout",
          "text": [
            "9\n",
            "[9 9]\n"
          ]
        }
      ]
    },
    {
      "cell_type": "code",
      "source": [
        "# ARRAY VALUE OPERATION\n",
        "\n",
        "e = np.array([7,9,9,2, 16,11,9,6])\n",
        "print(e.min())\n",
        "print(e.max())\n",
        "print(e.sum())"
      ],
      "metadata": {
        "colab": {
          "base_uri": "https://localhost:8080/"
        },
        "id": "EmTjNRsiL15n",
        "outputId": "b4f182b6-afc4-4cc0-fcae-3d59cca2f9ae"
      },
      "execution_count": 48,
      "outputs": [
        {
          "output_type": "stream",
          "name": "stdout",
          "text": [
            "2\n",
            "16\n",
            "69\n"
          ]
        }
      ]
    },
    {
      "cell_type": "code",
      "source": [
        "# ARITHMETIC OPERATION\n",
        "\n",
        "a = np.array([7,9,9,2])\n",
        "c = np.array([1,9,9,6])\n",
        "print(a+c)\n",
        "print(a-c)\n",
        "print(a*c)\n",
        "print(a/c)"
      ],
      "metadata": {
        "colab": {
          "base_uri": "https://localhost:8080/"
        },
        "id": "FhwpADbONbMy",
        "outputId": "456e591e-910a-401b-f114-fdbc783328de"
      },
      "execution_count": 52,
      "outputs": [
        {
          "output_type": "stream",
          "name": "stdout",
          "text": [
            "[ 8 18 18  8]\n",
            "[ 6  0  0 -4]\n",
            "[ 7 81 81 12]\n",
            "[7.         1.         1.         0.33333333]\n"
          ]
        }
      ]
    },
    {
      "cell_type": "code",
      "source": [
        "a = np.array([7,9,9,2])\n",
        "b = np.array([(7,9,9,2), (16,11,9,6)])\n",
        "print(b.sum(axis=0)) #Each element of 1st dim array with same index with another dim element\n",
        "print(b.sum(axis=1)) #Sum of all elements in 1st dim & sum of all element is 2nd dim\n",
        "print(np.sqrt(a)) #Squaroot of array elements\n",
        "print(np.std(a)) #Starndard deviation of array\n",
        "print(np.exp(a)) # Exponential of array\n",
        "print(np.log(a)) # Natural log - ln\n",
        "print(np.log10(a)) #Log base 10\n"
      ],
      "metadata": {
        "colab": {
          "base_uri": "https://localhost:8080/"
        },
        "id": "-WX1dDM8OVMC",
        "outputId": "f2c22554-f399-4f64-8050-1d6bdd511c90"
      },
      "execution_count": 61,
      "outputs": [
        {
          "output_type": "stream",
          "name": "stdout",
          "text": [
            "[23 20 18  8]\n",
            "[27 42]\n",
            "[2.64575131 3.         3.         1.41421356]\n",
            "2.8613807855648994\n",
            "[1.09663316e+03 8.10308393e+03 8.10308393e+03 7.38905610e+00]\n",
            "[1.94591015 2.19722458 2.19722458 0.69314718]\n",
            "[0.84509804 0.95424251 0.95424251 0.30103   ]\n"
          ]
        }
      ]
    },
    {
      "cell_type": "code",
      "source": [
        "b = np.array([(7,9,9,2), (16,11,9,6)])\n",
        "f = np.array ([(1,2,3,4), (5,6,7,8)])\n",
        "print(np.vstack((b,f))) #Vertical Stack\n",
        "print(np.hstack((b,f))) #Horizontal Stack\n",
        "print(b.ravel()) #Merge as single\n",
        "print(f.ravel())"
      ],
      "metadata": {
        "colab": {
          "base_uri": "https://localhost:8080/"
        },
        "id": "kGfWO564QhxE",
        "outputId": "c1bd2a12-477f-4601-e76c-7b0356b12f23"
      },
      "execution_count": 69,
      "outputs": [
        {
          "output_type": "stream",
          "name": "stdout",
          "text": [
            "[[ 7  9  9  2]\n",
            " [16 11  9  6]\n",
            " [ 1  2  3  4]\n",
            " [ 5  6  7  8]]\n",
            "[[ 7  9  9  2  1  2  3  4]\n",
            " [16 11  9  6  5  6  7  8]]\n",
            "[ 7  9  9  2 16 11  9  6]\n",
            "[1 2 3 4 5 6 7 8]\n"
          ]
        }
      ]
    },
    {
      "cell_type": "code",
      "source": [
        "# END"
      ],
      "metadata": {
        "id": "X0vkrS4jRpjF"
      },
      "execution_count": null,
      "outputs": []
    }
  ]
}